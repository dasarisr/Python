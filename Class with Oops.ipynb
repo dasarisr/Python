{
 "cells": [
  {
   "cell_type": "code",
   "execution_count": 4,
   "metadata": {},
   "outputs": [],
   "source": [
    "class SuperMarket:\n",
    "    \"\"\"SuperMarket class details\"\"\"\n",
    "    def __init__(self,Fruits,Vegetables,Foodgrains,Beverages):\n",
    "        self.Fruits=Fruits\n",
    "        self.Vegetables=Vegetables\n",
    "        self.Foodgrains=Foodgrains\n",
    "        self.Beverages=Beverages\n",
    "    \n",
    "    def get_menu_details(self):\n",
    "        name=f\"{self.Fruits} {self.Vegetables} {self.Foodgrains} {self.Beverages}\"\n",
    "        return name.title()\n",
    "    \n",
    "    def fruits_list(self):\n",
    "        print(f\"Fruits available are: {self.Fruits}\")\n",
    "        \n",
    "    def vegetables_list(self):\n",
    "        print(f\"Vegetables available are: {self.Vegetables}\")\n",
    "        \n",
    "    def foodgrains_list(self):\n",
    "        print(f\"Foodgrains available are: {self.Foodgrains}\")\n",
    "        \n",
    "    def beverages_list(self):\n",
    "        print(f\"Beverages available are: {self.Beverages}\")\n",
    "    \n",
    "    def update_menu_list(self,Dailyproducts):\n",
    "            self.Dailyproducts=Dailyproducts\n",
    "            print(\"Dailyproducts available are: {self.dailyproducts}\")"
   ]
  },
  {
   "cell_type": "code",
   "execution_count": 5,
   "metadata": {},
   "outputs": [],
   "source": [
    "list1=SuperMarket('Apple','Onion','IdlyRavva','ThumpsUp')"
   ]
  },
  {
   "cell_type": "code",
   "execution_count": 6,
   "metadata": {},
   "outputs": [
    {
     "data": {
      "text/plain": [
       "'Apple Onion Idlyravva Thumpsup'"
      ]
     },
     "execution_count": 6,
     "metadata": {},
     "output_type": "execute_result"
    }
   ],
   "source": [
    "list1.get_menu_details()"
   ]
  },
  {
   "cell_type": "code",
   "execution_count": 7,
   "metadata": {},
   "outputs": [
    {
     "name": "stdout",
     "output_type": "stream",
     "text": [
      "Fruits available are: Apple\n"
     ]
    }
   ],
   "source": [
    "list1.fruits_list()"
   ]
  },
  {
   "cell_type": "code",
   "execution_count": 8,
   "metadata": {},
   "outputs": [
    {
     "name": "stdout",
     "output_type": "stream",
     "text": [
      "Vegetables available are: Onion\n"
     ]
    }
   ],
   "source": [
    "list1.vegetables_list()"
   ]
  },
  {
   "cell_type": "code",
   "execution_count": null,
   "metadata": {},
   "outputs": [],
   "source": [
    "class Market:\n",
    "    \"\"\"SuperMarket class details\"\"\"\n",
    "    def __init__(self,Fruits,Vegetables,Foodgrains,Beverages):\n",
    "        self.Fruits=Fruits\n",
    "        self.Vegetables=Vegetables\n",
    "        self.Foodgrains=Foodgrains\n",
    "        self.Beverages=Beverages\n",
    "    \n",
    "    def get_menu_details(self):\n",
    "        name=f\"{self.Fruits} {self.Vegetables} {self.Foodgrains} {self.Beverages}\"\n",
    "        return name.title()\n",
    "    \n",
    "    def fruits_list(self):\n",
    "        print(f\"Fruits available are: {self.Fruits}\")\n",
    "        \n",
    "    def vegetables_list(self):\n",
    "        print(f\"Vegetables available are: {self.Vegetables}\")\n",
    "        \n",
    "    def foodgrains_list(self):\n",
    "        print(f\"Foodgrains available are: {self.Foodgrains}\")\n",
    "        \n",
    "    def beverages_list(self):\n",
    "        print(f\"Beverages available are: {self.Beverages}\")\n",
    "    \n",
    "    def update_menu_list(self,Dailyproducts):\n",
    "            self.Dailyproducts=Dailyproducts\n",
    "            print(\"Dailyproducts available are: {self.dailyproducts}\")\n",
    "            \n",
    "            \n",
    "class SuperMarket(Market):\n",
    "    def __init__(self,shirts,pants,shorts,footware):\n",
    "        self.shirts=shirts\n",
    "        self.pants=pants\n",
    "        self.shorts=shorts\n",
    "        self.footware=footware\n",
    "        \n",
    "    super().__init__(self,shirts,pants,shorts,footware):\n",
    "    "
   ]
  },
  {
   "cell_type": "code",
   "execution_count": 9,
   "metadata": {},
   "outputs": [
    {
     "data": {
      "text/plain": [
       "'C:\\\\Users\\\\dasarisr'"
      ]
     },
     "execution_count": 9,
     "metadata": {},
     "output_type": "execute_result"
    }
   ],
   "source": [
    "pwd"
   ]
  },
  {
   "cell_type": "code",
   "execution_count": null,
   "metadata": {},
   "outputs": [],
   "source": []
  }
 ],
 "metadata": {
  "kernelspec": {
   "display_name": "Python 3",
   "language": "python",
   "name": "python3"
  },
  "language_info": {
   "codemirror_mode": {
    "name": "ipython",
    "version": 3
   },
   "file_extension": ".py",
   "mimetype": "text/x-python",
   "name": "python",
   "nbconvert_exporter": "python",
   "pygments_lexer": "ipython3",
   "version": "3.7.6"
  }
 },
 "nbformat": 4,
 "nbformat_minor": 4
}
